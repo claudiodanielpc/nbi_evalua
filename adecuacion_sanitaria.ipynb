{
 "cells": [
  {
   "cell_type": "code",
   "execution_count": 23,
   "id": "0af5579c",
   "metadata": {
    "vscode": {
     "languageId": "r"
    }
   },
   "outputs": [
    {
     "name": "stderr",
     "output_type": "stream",
     "text": [
      "Using GitHub PAT from the git credential store.\n",
      "\n",
      "Downloading GitHub repo cpyp-ipdp/funcionespgd@HEAD\n",
      "\n"
     ]
    },
    {
     "name": "stdout",
     "output_type": "stream",
     "text": [
      "rlang  (1.1.4 -> 1.1.6) [CRAN]\n",
      "glue   (1.7.0 -> 1.8.0) [CRAN]\n",
      "cli    (3.6.3 -> 3.6.5) [CRAN]\n",
      "tibble (3.2.1 -> 3.3.0) [CRAN]\n"
     ]
    },
    {
     "name": "stderr",
     "output_type": "stream",
     "text": [
      "Installing 4 packages: rlang, glue, cli, tibble\n",
      "\n",
      "Warning message:\n",
      "\"package 'tibble' is in use and will not be installed\"\n",
      "Installing packages into 'C:/Users/claud/AppData/Local/R/win-library/4.4'\n",
      "(as 'lib' is unspecified)\n",
      "\n"
     ]
    },
    {
     "name": "stdout",
     "output_type": "stream",
     "text": [
      "package 'rlang' successfully unpacked and MD5 sums checked\n"
     ]
    },
    {
     "name": "stderr",
     "output_type": "stream",
     "text": [
      "Warning message:\n",
      "\"cannot remove prior installation of package 'rlang'\"\n",
      "Warning message in file.copy(savedcopy, lib, recursive = TRUE):\n",
      "\"problema al copiar C:\\Users\\claud\\AppData\\Local\\R\\win-library\\4.4\\00LOCK\\rlang\\libs\\x64\\rlang.dll  a C:\\Users\\claud\\AppData\\Local\\R\\win-library\\4.4\\rlang\\libs\\x64\\rlang.dll: Permission denied\"\n",
      "Warning message:\n",
      "\"restored 'rlang'\"\n"
     ]
    },
    {
     "name": "stdout",
     "output_type": "stream",
     "text": [
      "package 'glue' successfully unpacked and MD5 sums checked\n"
     ]
    },
    {
     "name": "stderr",
     "output_type": "stream",
     "text": [
      "Warning message:\n",
      "\"cannot remove prior installation of package 'glue'\"\n",
      "Warning message in file.copy(savedcopy, lib, recursive = TRUE):\n",
      "\"problema al copiar C:\\Users\\claud\\AppData\\Local\\R\\win-library\\4.4\\00LOCK\\glue\\libs\\x64\\glue.dll  a C:\\Users\\claud\\AppData\\Local\\R\\win-library\\4.4\\glue\\libs\\x64\\glue.dll: Permission denied\"\n",
      "Warning message:\n",
      "\"restored 'glue'\"\n"
     ]
    },
    {
     "name": "stdout",
     "output_type": "stream",
     "text": [
      "package 'cli' successfully unpacked and MD5 sums checked\n"
     ]
    },
    {
     "name": "stderr",
     "output_type": "stream",
     "text": [
      "Warning message:\n",
      "\"cannot remove prior installation of package 'cli'\"\n",
      "Warning message in file.copy(savedcopy, lib, recursive = TRUE):\n",
      "\"problema al copiar C:\\Users\\claud\\AppData\\Local\\R\\win-library\\4.4\\00LOCK\\cli\\libs\\x64\\cli.dll  a C:\\Users\\claud\\AppData\\Local\\R\\win-library\\4.4\\cli\\libs\\x64\\cli.dll: Permission denied\"\n",
      "Warning message:\n",
      "\"restored 'cli'\"\n"
     ]
    },
    {
     "name": "stdout",
     "output_type": "stream",
     "text": [
      "\n",
      "The downloaded binary packages are in\n",
      "\tC:\\Users\\claud\\AppData\\Local\\Temp\\Rtmpe0VAuu\\downloaded_packages\n",
      "\u001b[36m──\u001b[39m \u001b[36mR CMD build\u001b[39m \u001b[36m─────────────────────────────────────────────────────────────────\u001b[39m\n",
      "* checking for file 'C:\\Users\\claud\\AppData\\Local\\Temp\\Rtmpe0VAuu\\remotes490839a343c5\\cpyp-ipdp-funcionespgd-3fffa52/DESCRIPTION' ... OK\n",
      "* preparing 'funcionespgd':\n",
      "* checking DESCRIPTION meta-information ... OK\n",
      "* checking for LF line-endings in source and make files and shell scripts\n",
      "* checking for empty or unneeded directories\n",
      "Omitted 'LazyData' from DESCRIPTION\n",
      "* building 'funcionespgd_0.1.0.tar.gz'\n",
      "\n"
     ]
    },
    {
     "name": "stderr",
     "output_type": "stream",
     "text": [
      "Warning message:\n",
      "\"package 'funcionespgd' is in use and will not be installed\"\n"
     ]
    }
   ],
   "source": [
    "##Estimación de pobreza de adecuación sanitaria de acuerdo con Evalúa CDMX\n",
    "#Se borra todo lo que se encuentra en el entorno\n",
    "\n",
    "#rm(list=ls())\n",
    "\n",
    "# Librerías ====\n",
    "if(!require('pacman')) install.packages('pacman')\n",
    "pacman::p_load(tidyverse, srvyr,showtext,gt)\n",
    "remotes::install_github(\"cpyp-ipdp/funcionespgd\", force = TRUE)\n",
    "library(funcionespgd)\n",
    "\n",
    "#Fuente para los gráficos\n",
    "font_add_google(\"Poppins\", \"pop\")\n",
    "showtext_auto()"
   ]
  },
  {
   "cell_type": "code",
   "execution_count": 2,
   "id": "00f320ad",
   "metadata": {
    "vscode": {
     "languageId": "r"
    }
   },
   "outputs": [
    {
     "name": "stderr",
     "output_type": "stream",
     "text": [
      "Archivo renombrado y movido: data/ns_viviendas_2018.csv\n",
      "\n",
      "Archivo renombrado y movido: data/ns_poblacion_2018.csv\n",
      "\n",
      "Archivo renombrado y movido: data/ns_viviendas_2020.csv\n",
      "\n",
      "Archivo renombrado y movido: data/ns_poblacion_2020.csv\n",
      "\n",
      "Archivo renombrado y movido: data/ns_viviendas_2022.csv\n",
      "\n",
      "Archivo renombrado y movido: data/ns_poblacion_2022.csv\n",
      "\n",
      "Archivo renombrado y movido: data/ns_viviendas_2024.csv\n",
      "\n",
      "Archivo renombrado y movido: data/ns_poblacion_2024.csv\n",
      "\n"
     ]
    }
   ],
   "source": [
    "# Definir URL base y parte intermedia\n",
    "url_basica <- \"https://www.inegi.org.mx/contenidos/programas/enigh/nc/\"\n",
    "segunda_parte <- \"microdatos/enigh\"\n",
    "\n",
    "# Definir los años y los tipos de archivos a descargar\n",
    "years <- c(\"2018\", \"2020\", \"2022\", \"2024\")\n",
    "tipos <- c(\"ns_viviendas\", \"ns_poblacion\")  # Tipos de archivos\n",
    "\n",
    "# Crear la carpeta de destino si no existe\n",
    "if (!dir.exists(\"data\")) {\n",
    "  dir.create(\"data\")\n",
    "}\n",
    "\n",
    "# Descargar, descomprimir y renombrar los archivos\n",
    "for (year in years) {\n",
    "  for (tipo in tipos) {\n",
    "    # Construir URL y nombres de archivo\n",
    "    url <- paste0(url_basica, year, \"/\", segunda_parte, year, \"_\", tipo, \"_csv.zip\")\n",
    "    zip_destfile <- paste0(\"data/\", year, \"_\", tipo, \".zip\")\n",
    "\n",
    "    # Descargar solo si el archivo no existe\n",
    "    if (!file.exists(zip_destfile)) {\n",
    "      download.file(url, destfile = zip_destfile, mode = \"wb\")\n",
    "    } else {\n",
    "      message(\"Archivo ya descargado: \", zip_destfile)\n",
    "    }\n",
    "\n",
    "    # Extraer archivos en una subcarpeta específica\n",
    "    extract_dir <- paste0(\"data/\", year, \"_\", tipo)\n",
    "    if (!dir.exists(extract_dir)) {\n",
    "      dir.create(extract_dir)\n",
    "    }\n",
    "\n",
    "    unzip(zip_destfile, exdir = extract_dir)\n",
    "\n",
    "    # Buscar el archivo CSV dentro de la carpeta extraída\n",
    "    extracted_files <- list.files(extract_dir, pattern = \"\\\\.csv$\", full.names = TRUE)\n",
    "\n",
    "    if (length(extracted_files) == 1) {\n",
    "      # Determinar el nuevo nombre con formato adecuado\n",
    "      new_name <- paste0(\"data/\", tipo, \"_\", year, \".csv\")\n",
    "\n",
    "      # Mover el archivo al directorio principal y renombrarlo\n",
    "      file.rename(extracted_files, new_name)\n",
    "\n",
    "      message(\"Archivo renombrado y movido: \", new_name)\n",
    "    } else {\n",
    "      message(\"Error: No se encontró un archivo CSV único en \", extract_dir)\n",
    "    }\n",
    "  }\n",
    "}\n"
   ]
  },
  {
   "cell_type": "code",
   "execution_count": 21,
   "id": "b3456f49",
   "metadata": {
    "vscode": {
     "languageId": "r"
    }
   },
   "outputs": [],
   "source": [
    "estima_pobreza_sanitaria <- function(year, variable) {\n",
    "\n",
    "#Procesar vivienda\n",
    "  vivienda <- read_csv(paste0(\"data/ns_viviendas_\", year, \".csv\"), show_col_types = FALSE) %>%\n",
    "  #Abasto de agua\n",
    "   mutate(\n",
    "      # --- HOMOLOGACIÓN 2024+ PARA DISP_AGUA ---\n",
    "      Aj = if (year >= 2024) {\n",
    "        case_when(\n",
    "          # Agua entubada dentro -> disp_agua = 1 -> Aj = 3\n",
    "          agua_ent == 1 ~ 3,\n",
    "          # Agua entubada fuera (patio/terreno) -> disp_agua = 2 -> Aj = 2\n",
    "          agua_ent == 2 ~ 2,\n",
    "\n",
    "          # No entubada (agua_ent == 3): mapear por ab_agua / agua_noe\n",
    "          (agua_ent == 3) & (ab_agua == 1 | agua_noe == 2) ~ 1,                # llave pública / comunitaria\n",
    "          (agua_ent == 3) & (ab_agua == 4)                 ~ 1,                # pipa\n",
    "          (agua_ent == 3) & (ab_agua == 5 | agua_noe == 3) ~ 0,                # de otra vivienda\n",
    "          (agua_ent == 3) & (ab_agua == 6 | agua_noe == 5) ~ 0,                # de la lluvia\n",
    "          (agua_ent == 3) & (ab_agua %in% c(2,3,7) | agua_noe %in% c(1,4,6)) ~ 0,  # pozo / río-lago / otro\n",
    "\n",
    "          TRUE ~ NA_real_\n",
    "        )\n",
    "      } else {\n",
    "        case_when(\n",
    "          disp_agua %in% c(7, 5, 4) ~ 0,\n",
    "          disp_agua %in% c(3, 6)    ~ 1,\n",
    "          disp_agua == 2            ~ 2,\n",
    "          disp_agua == 1            ~ 3,\n",
    "          TRUE ~ NA_real_\n",
    "        )\n",
    "      },\n",
    "      AAj = Aj / 3,\n",
    "\n",
    "###Frecuencia de agua\n",
    "Frec_Aguaj = case_when(\n",
    "        dotac_agua == 1 ~ 4.0,\n",
    "        dotac_agua == 2 ~ 2.0,\n",
    "        dotac_agua == 3 ~ 1.2,\n",
    "        dotac_agua == 4 ~ 0.6,\n",
    "        dotac_agua == 5 ~ 0.4,\n",
    "        TRUE ~ NA_real_\n",
    "      ),\n",
    "AFAj = Frec_Aguaj / 4,\n",
    "\n",
    "###índice de adecuación y frecuencia de agua\n",
    "      AAHj = case_when(\n",
    "        Aj %in% c(0, 1) ~ AAj,\n",
    "        Aj %in% c(2, 3) ~ AAj * AFAj,\n",
    "        TRUE ~ NA_real_\n",
    "      ),\n",
    "\n",
    "####Índice de adecuación de drenaje\n",
    "      Drj  = case_when(\n",
    "        drenaje %in% c(1, 2) ~ 1,\n",
    "        drenaje %in% c(3, 4, 5) ~ 0,\n",
    "        TRUE ~ NA_real_\n",
    "      ),\n",
    "      ADrj = Drj/1,\n",
    "\n",
    "###Índice de adecuación de excusado\n",
    "      EXj = if (year >= 2024) {\n",
    "        # 2024+: 1=Taza de baño, 2=Letrina, 3=No tienen\n",
    "        case_when(\n",
    "          as.numeric(excusado) %in% c(2, 3) ~ 0,                                      # letrina o no tienen -> no cumple\n",
    "          as.numeric(excusado) == 1 & sanit_agua == \"3\" ~ 0,                          # taza pero sin descarga\n",
    "          as.numeric(excusado) == 1 & uso_compar == \"1\" & sanit_agua == \"2\" ~ 2,      # compartido + sin descarga directa\n",
    "          as.numeric(excusado) == 1 & uso_compar == \"1\" & sanit_agua == \"1\" ~ 3,      # compartido + descarga directa\n",
    "          as.numeric(excusado) == 1 & uso_compar == \"2\" & sanit_agua == \"2\" ~ 3,      # exclusivo + sin descarga directa\n",
    "          as.numeric(excusado) == 1 & uso_compar == \"2\" & sanit_agua == \"1\" ~ 4,      # exclusivo + descarga directa (norma)\n",
    "          TRUE ~ NA_real_\n",
    "        )\n",
    "      } else {\n",
    "        # Hasta 2022: 1=Sí, 2=No\n",
    "        case_when(\n",
    "          excusado == \"2\" ~ 0,\n",
    "          sanit_agua == \"3\" ~ 0,\n",
    "          uso_compar == \"1\" & sanit_agua == \"2\" ~ 2,\n",
    "          uso_compar == \"1\" & sanit_agua == \"1\" ~ 3,\n",
    "          uso_compar == \"2\" & sanit_agua == \"2\" ~ 3,\n",
    "          uso_compar == \"2\" & sanit_agua == \"1\" ~ 4,\n",
    "          TRUE ~ NA_real_\n",
    "        )\n",
    "      },\n",
    "      AEXj = EXj / 4) %>%\n",
    "\n",
    "   #Seleccionar las variables requeridas\n",
    "    {\n",
    "      if(year < 2022) select(., folioviv,Aj, AAj, Frec_Aguaj, AFAj, AAHj, Drj, ADrj, EXj, AEXj,upm, est_dis, factor) else\n",
    "        select(., folioviv, Aj, AAj, Frec_Aguaj, AFAj, AAHj, Drj, ADrj, EXj, AEXj)\n",
    "    }\n",
    "\n",
    " pob <- read_csv(paste0(\"data/ns_poblacion_\", year, \".csv\"), show_col_types = FALSE) %>%\n",
    "    janitor::clean_names() %>%\n",
    "    # Filtrar parentescos que no pertenecen al nucleo familiar\n",
    "    filter(!(parentesco >= 400 & parentesco < 500) & !(parentesco >= 700 & parentesco < 800)) %>%\n",
    "    #Crear clave de entidad\n",
    "    mutate(\n",
    "      cve_ent = case_when(\n",
    "        nchar(folioviv) == 9 ~ paste0(\"0\", substr(folioviv, 1, 1)),\n",
    "        nchar(folioviv) == 10 ~ substr(folioviv, 1, 2)\n",
    "      )\n",
    "    ) %>%\n",
    "    #Pegar vivienda\n",
    "    left_join(vivienda, by = \"folioviv\") %>%\n",
    "    mutate(\n",
    "      ASj = AAHj * ADrj * AEXj,     # Adecuación sanitaria consolidada\n",
    "      CSj = 1 - ASj,                # Carencia sanitaria\n",
    "      year = year,\n",
    "###Crear estratos de Adecuación sanitaria\n",
    "E_CSj=case_when(\n",
    "    CSj<=-0.5 ~ 6,\n",
    "    CSj>-0.5 & CSj<=-0.1 ~ 5,\n",
    "    CSj>-0.1 & CSj<=0 ~ 4,\n",
    "    CSj>0 & CSj<=(1/3) ~ 3,\n",
    "    CSj>(1/3) & CSj<=0.5 ~ 2,\n",
    "    CSj>0.5 & CSj<=1 ~ 1,\n",
    "    TRUE ~ NA_real_),\n",
    "\n",
    "    ###Crear pobreza de adecuación sanitaria\n",
    "pobreza_csj = case_when(\n",
    "  E_CSj >= 4 ~ 0,\n",
    "  E_CSj <= 3 ~ 1,\n",
    "  TRUE ~ NA_real_\n",
    "))\n",
    "\n",
    "  \n",
    "#Diseño muestral\n",
    "  diseno <- pob %>%\n",
    "    as_survey_design(\n",
    "      ids = upm,\n",
    "      strata = est_dis,\n",
    "      weights = factor,\n",
    "      nest = TRUE\n",
    "    )\n",
    "\n",
    "\n",
    "\n",
    "#Estimaciones de acuerdo a variable solicitada\n",
    "resultado<-if (variable == \"pobreza_sanitaria\"){\n",
    "  diseno %>%\n",
    "    filter(cve_ent == \"09\") %>%\n",
    "    group_by(pobreza_csj) %>%\n",
    "    summarise(\n",
    "      pob = survey_total(vartype = \"cv\"),\n",
    "      porcentaje = survey_prop(vartype = \"cv\")\n",
    "    ) %>%\n",
    "    mutate(porcentaje = porcentaje * 100, year = year) %>%\n",
    "    filter(pobreza_csj == 1)\n",
    "}\n",
    "else {stop(\"Variable no reconocida\")\n",
    "\n",
    "}\n",
    "return(resultado\n",
    "  )\n",
    "}"
   ]
  },
  {
   "cell_type": "code",
   "execution_count": 22,
   "id": "3f223b4c",
   "metadata": {
    "vscode": {
     "languageId": "r"
    }
   },
   "outputs": [
    {
     "name": "stderr",
     "output_type": "stream",
     "text": [
      "Warning message:\n",
      "\"\u001b[1m\u001b[22mOne or more parsing issues, call `problems()` on your data frame for details,\n",
      "e.g.:\n",
      "  dat <- vroom(...)\n",
      "  problems(dat)\"\n",
      "Warning message:\n",
      "\"\u001b[1m\u001b[22mOne or more parsing issues, call `problems()` on your data frame for details,\n",
      "e.g.:\n",
      "  dat <- vroom(...)\n",
      "  problems(dat)\"\n",
      "Warning message:\n",
      "\"\u001b[1m\u001b[22mOne or more parsing issues, call `problems()` on your data frame for details,\n",
      "e.g.:\n",
      "  dat <- vroom(...)\n",
      "  problems(dat)\"\n",
      "Warning message:\n",
      "\"\u001b[1m\u001b[22mOne or more parsing issues, call `problems()` on your data frame for details,\n",
      "e.g.:\n",
      "  dat <- vroom(...)\n",
      "  problems(dat)\"\n",
      "Warning message:\n",
      "\"\u001b[1m\u001b[22mOne or more parsing issues, call `problems()` on your data frame for details,\n",
      "e.g.:\n",
      "  dat <- vroom(...)\n",
      "  problems(dat)\"\n",
      "Warning message:\n",
      "\"\u001b[1m\u001b[22mOne or more parsing issues, call `problems()` on your data frame for details,\n",
      "e.g.:\n",
      "  dat <- vroom(...)\n",
      "  problems(dat)\"\n",
      "Warning message:\n",
      "\"\u001b[1m\u001b[22mOne or more parsing issues, call `problems()` on your data frame for details,\n",
      "e.g.:\n",
      "  dat <- vroom(...)\n",
      "  problems(dat)\"\n",
      "Warning message:\n",
      "\"\u001b[1m\u001b[22mOne or more parsing issues, call `problems()` on your data frame for details,\n",
      "e.g.:\n",
      "  dat <- vroom(...)\n",
      "  problems(dat)\"\n"
     ]
    },
    {
     "data": {
      "text/html": [
       "<table class=\"dataframe\">\n",
       "<caption>A tibble: 4 × 6</caption>\n",
       "<thead>\n",
       "\t<tr><th scope=col>pobreza_csj</th><th scope=col>pob</th><th scope=col>pob_cv</th><th scope=col>porcentaje</th><th scope=col>porcentaje_cv</th><th scope=col>year</th></tr>\n",
       "\t<tr><th scope=col>&lt;dbl&gt;</th><th scope=col>&lt;dbl&gt;</th><th scope=col>&lt;dbl&gt;</th><th scope=col>&lt;dbl&gt;</th><th scope=col>&lt;dbl&gt;</th><th scope=col>&lt;chr&gt;</th></tr>\n",
       "</thead>\n",
       "<tbody>\n",
       "\t<tr><td>1</td><td>3725292</td><td>0.05549573</td><td>40.50876</td><td>0.04689366</td><td>2018</td></tr>\n",
       "\t<tr><td>1</td><td>3226613</td><td>0.05296163</td><td>34.91762</td><td>0.04830021</td><td>2020</td></tr>\n",
       "\t<tr><td>1</td><td>3254901</td><td>0.05759466</td><td>34.98197</td><td>0.05351024</td><td>2022</td></tr>\n",
       "\t<tr><td>1</td><td>3467413</td><td>0.05502042</td><td>37.10223</td><td>0.04919279</td><td>2024</td></tr>\n",
       "</tbody>\n",
       "</table>\n"
      ],
      "text/latex": [
       "A tibble: 4 × 6\n",
       "\\begin{tabular}{llllll}\n",
       " pobreza\\_csj & pob & pob\\_cv & porcentaje & porcentaje\\_cv & year\\\\\n",
       " <dbl> & <dbl> & <dbl> & <dbl> & <dbl> & <chr>\\\\\n",
       "\\hline\n",
       "\t 1 & 3725292 & 0.05549573 & 40.50876 & 0.04689366 & 2018\\\\\n",
       "\t 1 & 3226613 & 0.05296163 & 34.91762 & 0.04830021 & 2020\\\\\n",
       "\t 1 & 3254901 & 0.05759466 & 34.98197 & 0.05351024 & 2022\\\\\n",
       "\t 1 & 3467413 & 0.05502042 & 37.10223 & 0.04919279 & 2024\\\\\n",
       "\\end{tabular}\n"
      ],
      "text/markdown": [
       "\n",
       "A tibble: 4 × 6\n",
       "\n",
       "| pobreza_csj &lt;dbl&gt; | pob &lt;dbl&gt; | pob_cv &lt;dbl&gt; | porcentaje &lt;dbl&gt; | porcentaje_cv &lt;dbl&gt; | year &lt;chr&gt; |\n",
       "|---|---|---|---|---|---|\n",
       "| 1 | 3725292 | 0.05549573 | 40.50876 | 0.04689366 | 2018 |\n",
       "| 1 | 3226613 | 0.05296163 | 34.91762 | 0.04830021 | 2020 |\n",
       "| 1 | 3254901 | 0.05759466 | 34.98197 | 0.05351024 | 2022 |\n",
       "| 1 | 3467413 | 0.05502042 | 37.10223 | 0.04919279 | 2024 |\n",
       "\n"
      ],
      "text/plain": [
       "  pobreza_csj pob     pob_cv     porcentaje porcentaje_cv year\n",
       "1 1           3725292 0.05549573 40.50876   0.04689366    2018\n",
       "2 1           3226613 0.05296163 34.91762   0.04830021    2020\n",
       "3 1           3254901 0.05759466 34.98197   0.05351024    2022\n",
       "4 1           3467413 0.05502042 37.10223   0.04919279    2024"
      ]
     },
     "metadata": {},
     "output_type": "display_data"
    }
   ],
   "source": [
    "tabla_pobreza <- map_dfr(years, estima_pobreza_sanitaria, variable = \"pobreza_sanitaria\")\n",
    "tabla_pobreza"
   ]
  },
  {
   "cell_type": "code",
   "execution_count": 39,
   "id": "3873f220",
   "metadata": {
    "vscode": {
     "languageId": "r"
    }
   },
   "outputs": [],
   "source": [
    "tabla_pobreza %>%\n",
    "  select(-pobreza_csj) %>%\n",
    "  rename(\n",
    "    Año           = year,\n",
    "    Personas      = pob,\n",
    "    Personas_cv   = pob_cv,\n",
    "    Porcentaje    = porcentaje,\n",
    "    Porcentaje_cv = porcentaje_cv\n",
    "  ) %>%\n",
    "  relocate(Año, .before = Personas) %>%\n",
    "  gt() %>%\n",
    "  # textos de la segunda fila de encabezados\n",
    "  cols_label(\n",
    "    Personas      = \"Valor\",\n",
    "    Personas_cv   = \"Coeficiente de variación\",\n",
    "    Porcentaje    = \"Valor\",\n",
    "    Porcentaje_cv = \"Coeficiente de variación\"\n",
    "  ) %>%\n",
    "  tab_spanner(\"Personas\",   id = \"sp_personas\",   columns = c(Personas, Personas_cv)) %>%\n",
    "  tab_spanner(\"Porcentaje\", id = \"sp_porcentaje\", columns = c(Porcentaje, Porcentaje_cv)) %>%\n",
    "\n",
    "  # --- Poppins + centrado ---\n",
    "  opt_table_font(font = list(google_font(\"Poppins\"), default_fonts())) %>%   # fuente\n",
    "  tab_options(\n",
    "    heading.align = \"center\",\n",
    "    table.align   = \"center\",\n",
    "    table.font.size = px(14),\n",
    "    table.background.color = \"white\",\n",
    "    table.border.top.color = \"white\",\n",
    "    table.border.bottom.color = \"white\",\n",
    "    data_row.padding = px(3),\n",
    "    column_labels.font.weight = \"bold\",\n",
    "    column_labels.border.top.color = \"black\",\n",
    "    column_labels.border.bottom.color = \"black\",\n",
    "    column_labels.border.bottom.width = px(2),\n",
    "    table_body.hlines.color = \"lightgrey\",\n",
    "    table_body.hlines.width = px(0.5),\n",
    "    table_body.border.bottom.color = \"black\",\n",
    "    table_body.border.bottom.width = px(2),\n",
    "    source_notes.font.size = px(10),\n",
    "    source_notes.padding = px(1)\n",
    "  ) %>%\n",
    "  # centrar celdas, labels y spanners\n",
    "  cols_align(align = \"center\", columns = everything()) %>%\n",
    "  tab_style(\n",
    "    style = cell_text(align = \"center\"),\n",
    "    locations = list(\n",
    "      cells_column_labels(columns = everything()),\n",
    "      cells_column_spanners(spanners = everything())\n",
    "    )\n",
    "  ) %>%\n",
    "\n",
    "  fmt_number(columns = c(Personas, Personas_cv, Porcentaje, Porcentaje_cv), decimals = 2) %>%\n",
    "  tab_header(\n",
    "    title = md(\"**Pobreza de adecuación sanitaria en CDMX**\"),\n",
    "    subtitle = md(\"**Personas en pobreza de adecuación sanitaria (%)**\")\n",
    "  ) %>%\n",
    "  tab_source_note(md(\"Nota: Resultados preliminares de acuerdo con la metodología de Evalúa CDMX\")) %>%\n",
    "  tab_source_note(md(\"Fuente: @claudiodanielpc con información de INEGI. Encuesta Nacional de Ingresos y Gastos de los Hogares (ENIGH)\")) %>%\n",
    "  gtsave(\"pobreza_sanitaria.png\")\n"
   ]
  }
 ],
 "metadata": {
  "kernelspec": {
   "display_name": "R",
   "language": "R",
   "name": "ir"
  },
  "language_info": {
   "codemirror_mode": "r",
   "file_extension": ".r",
   "mimetype": "text/x-r-source",
   "name": "R",
   "pygments_lexer": "r",
   "version": "4.4.1"
  }
 },
 "nbformat": 4,
 "nbformat_minor": 5
}
