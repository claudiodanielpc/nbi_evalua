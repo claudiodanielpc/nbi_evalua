{
 "cells": [
  {
   "cell_type": "code",
   "execution_count": 1,
   "id": "d76c8698",
   "metadata": {
    "vscode": {
     "languageId": "r"
    }
   },
   "outputs": [
    {
     "name": "stderr",
     "output_type": "stream",
     "text": [
      "Cargando paquete requerido: pacman\n",
      "\n",
      "Using GitHub PAT from the git credential store.\n",
      "\n",
      "Downloading GitHub repo cpyp-ipdp/funcionespgd@HEAD\n",
      "\n"
     ]
    },
    {
     "name": "stdout",
     "output_type": "stream",
     "text": [
      "rlang  (1.1.4 -> 1.1.6) [CRAN]\n",
      "glue   (1.7.0 -> 1.8.0) [CRAN]\n",
      "cli    (3.6.3 -> 3.6.5) [CRAN]\n",
      "tibble (3.2.1 -> 3.3.0) [CRAN]\n"
     ]
    },
    {
     "name": "stderr",
     "output_type": "stream",
     "text": [
      "Installing 4 packages: rlang, glue, cli, tibble\n",
      "\n",
      "Warning message:\n",
      "\"package 'tibble' is in use and will not be installed\"\n",
      "Installing packages into 'C:/Users/claud/AppData/Local/R/win-library/4.4'\n",
      "(as 'lib' is unspecified)\n",
      "\n"
     ]
    },
    {
     "name": "stdout",
     "output_type": "stream",
     "text": [
      "package 'rlang' successfully unpacked and MD5 sums checked\n"
     ]
    },
    {
     "name": "stderr",
     "output_type": "stream",
     "text": [
      "Warning message:\n",
      "\"cannot remove prior installation of package 'rlang'\"\n",
      "Warning message in file.copy(savedcopy, lib, recursive = TRUE):\n",
      "\"problema al copiar C:\\Users\\claud\\AppData\\Local\\R\\win-library\\4.4\\00LOCK\\rlang\\libs\\x64\\rlang.dll  a C:\\Users\\claud\\AppData\\Local\\R\\win-library\\4.4\\rlang\\libs\\x64\\rlang.dll: Permission denied\"\n",
      "Warning message:\n",
      "\"restored 'rlang'\"\n"
     ]
    },
    {
     "name": "stdout",
     "output_type": "stream",
     "text": [
      "package 'glue' successfully unpacked and MD5 sums checked\n"
     ]
    },
    {
     "name": "stderr",
     "output_type": "stream",
     "text": [
      "Warning message:\n",
      "\"cannot remove prior installation of package 'glue'\"\n",
      "Warning message in file.copy(savedcopy, lib, recursive = TRUE):\n",
      "\"problema al copiar C:\\Users\\claud\\AppData\\Local\\R\\win-library\\4.4\\00LOCK\\glue\\libs\\x64\\glue.dll  a C:\\Users\\claud\\AppData\\Local\\R\\win-library\\4.4\\glue\\libs\\x64\\glue.dll: Permission denied\"\n",
      "Warning message:\n",
      "\"restored 'glue'\"\n"
     ]
    },
    {
     "name": "stdout",
     "output_type": "stream",
     "text": [
      "package 'cli' successfully unpacked and MD5 sums checked\n"
     ]
    },
    {
     "name": "stderr",
     "output_type": "stream",
     "text": [
      "Warning message:\n",
      "\"cannot remove prior installation of package 'cli'\"\n",
      "Warning message in file.copy(savedcopy, lib, recursive = TRUE):\n",
      "\"problema al copiar C:\\Users\\claud\\AppData\\Local\\R\\win-library\\4.4\\00LOCK\\cli\\libs\\x64\\cli.dll  a C:\\Users\\claud\\AppData\\Local\\R\\win-library\\4.4\\cli\\libs\\x64\\cli.dll: Permission denied\"\n",
      "Warning message:\n",
      "\"restored 'cli'\"\n"
     ]
    },
    {
     "name": "stdout",
     "output_type": "stream",
     "text": [
      "\n",
      "The downloaded binary packages are in\n",
      "\tC:\\Users\\claud\\AppData\\Local\\Temp\\RtmpKIMknl\\downloaded_packages\n",
      "\u001b[36m──\u001b[39m \u001b[36mR CMD build\u001b[39m \u001b[36m─────────────────────────────────────────────────────────────────\u001b[39m\n",
      "* checking for file 'C:\\Users\\claud\\AppData\\Local\\Temp\\RtmpKIMknl\\remotes9581c1d52af\\cpyp-ipdp-funcionespgd-3fffa52/DESCRIPTION' ... OK\n",
      "* preparing 'funcionespgd':\n",
      "* checking DESCRIPTION meta-information ... OK\n",
      "* checking for LF line-endings in source and make files and shell scripts\n",
      "* checking for empty or unneeded directories\n",
      "Omitted 'LazyData' from DESCRIPTION\n",
      "* building 'funcionespgd_0.1.0.tar.gz'\n",
      "\n"
     ]
    },
    {
     "name": "stderr",
     "output_type": "stream",
     "text": [
      "Installing package into 'C:/Users/claud/AppData/Local/R/win-library/4.4'\n",
      "(as 'lib' is unspecified)\n",
      "\n"
     ]
    }
   ],
   "source": [
    "##Estimación de pobreza de adecuación energética de acuerdo con Evalúa CDMX\n",
    "#Se borra todo lo que se encuentra en el entorno\n",
    "\n",
    "#rm(list=ls())\n",
    "\n",
    "# Librerías ====\n",
    "if(!require('pacman')) install.packages('pacman')\n",
    "pacman::p_load(tidyverse, srvyr,showtext,gt)\n",
    "remotes::install_github(\"cpyp-ipdp/funcionespgd\", force = TRUE)\n",
    "library(funcionespgd)\n",
    "\n",
    "#Fuente para los gráficos\n",
    "font_add_google(\"Poppins\", \"pop\")\n",
    "showtext_auto()"
   ]
  },
  {
   "cell_type": "code",
   "execution_count": 2,
   "id": "cdfca024",
   "metadata": {
    "vscode": {
     "languageId": "r"
    }
   },
   "outputs": [
    {
     "name": "stderr",
     "output_type": "stream",
     "text": [
      "Archivo ya descargado: data/2018_ns_viviendas.zip\n",
      "\n",
      "Archivo renombrado y movido: data/ns_viviendas_2018.csv\n",
      "\n",
      "Archivo ya descargado: data/2018_ns_poblacion.zip\n",
      "\n",
      "Archivo renombrado y movido: data/ns_poblacion_2018.csv\n",
      "\n",
      "Archivo ya descargado: data/2020_ns_viviendas.zip\n",
      "\n",
      "Archivo renombrado y movido: data/ns_viviendas_2020.csv\n",
      "\n",
      "Archivo ya descargado: data/2020_ns_poblacion.zip\n",
      "\n",
      "Archivo renombrado y movido: data/ns_poblacion_2020.csv\n",
      "\n",
      "Archivo ya descargado: data/2022_ns_viviendas.zip\n",
      "\n",
      "Archivo renombrado y movido: data/ns_viviendas_2022.csv\n",
      "\n",
      "Archivo ya descargado: data/2022_ns_poblacion.zip\n",
      "\n",
      "Archivo renombrado y movido: data/ns_poblacion_2022.csv\n",
      "\n",
      "Archivo ya descargado: data/2024_ns_viviendas.zip\n",
      "\n",
      "Archivo renombrado y movido: data/ns_viviendas_2024.csv\n",
      "\n",
      "Archivo ya descargado: data/2024_ns_poblacion.zip\n",
      "\n",
      "Archivo renombrado y movido: data/ns_poblacion_2024.csv\n",
      "\n"
     ]
    }
   ],
   "source": [
    "# Definir URL base y parte intermedia\n",
    "url_basica <- \"https://www.inegi.org.mx/contenidos/programas/enigh/nc/\"\n",
    "segunda_parte <- \"microdatos/enigh\"\n",
    "\n",
    "# Definir los años y los tipos de archivos a descargar\n",
    "years <- c(\"2018\", \"2020\", \"2022\",\"2024\")\n",
    "tipos <- c(\"ns_viviendas\", \"ns_poblacion\")  # Tipos de archivos\n",
    "\n",
    "# Crear la carpeta de destino si no existe\n",
    "if (!dir.exists(\"data\")) {\n",
    "  dir.create(\"data\")\n",
    "}\n",
    "\n",
    "# Descargar, descomprimir y renombrar los archivos\n",
    "for (year in years) {\n",
    "  for (tipo in tipos) {\n",
    "    # Construir URL y nombres de archivo\n",
    "    url <- paste0(url_basica, year, \"/\", segunda_parte, year, \"_\", tipo, \"_csv.zip\")\n",
    "    zip_destfile <- paste0(\"data/\", year, \"_\", tipo, \".zip\")\n",
    "\n",
    "    # Descargar solo si el archivo no existe\n",
    "    if (!file.exists(zip_destfile)) {\n",
    "      download.file(url, destfile = zip_destfile, mode = \"wb\")\n",
    "    } else {\n",
    "      message(\"Archivo ya descargado: \", zip_destfile)\n",
    "    }\n",
    "\n",
    "    # Extraer archivos en una subcarpeta específica\n",
    "    extract_dir <- paste0(\"data/\", year, \"_\", tipo)\n",
    "    if (!dir.exists(extract_dir)) {\n",
    "      dir.create(extract_dir)\n",
    "    }\n",
    "\n",
    "    unzip(zip_destfile, exdir = extract_dir)\n",
    "\n",
    "    # Buscar el archivo CSV dentro de la carpeta extraída\n",
    "    extracted_files <- list.files(extract_dir, pattern = \"\\\\.csv$\", full.names = TRUE)\n",
    "\n",
    "    if (length(extracted_files) == 1) {\n",
    "      # Determinar el nuevo nombre con formato adecuado\n",
    "      new_name <- paste0(\"data/\", tipo, \"_\", year, \".csv\")\n",
    "\n",
    "      # Mover el archivo al directorio principal y renombrarlo\n",
    "      file.rename(extracted_files, new_name)\n",
    "\n",
    "      message(\"Archivo renombrado y movido: \", new_name)\n",
    "    } else {\n",
    "      message(\"Error: No se encontró un archivo CSV único en \", extract_dir)\n",
    "    }\n",
    "  }\n",
    "}\n"
   ]
  },
  {
   "cell_type": "code",
   "execution_count": 101,
   "id": "b742e599",
   "metadata": {
    "vscode": {
     "languageId": "r"
    }
   },
   "outputs": [],
   "source": [
    "estima_pobreza_energetica <- function(year, variable) {\n",
    "\n",
    "  # Procesar vivienda (parsing con as.numeric según año)\n",
    "  vivienda <- read_csv(paste0(\"data/ns_viviendas_\", year, \".csv\"), show_col_types = FALSE) %>%\n",
    "    {\n",
    "      if (year <= 2022) {\n",
    "        mutate(.,\n",
    "          disp_elect = as.numeric(disp_elect),\n",
    "          focos_inca = as.numeric(focos_inca),\n",
    "          focos_ahor = as.numeric(focos_ahor),\n",
    "          num_cuarto = as.numeric(num_cuarto),\n",
    "          bano_comp  = as.numeric(bano_comp),\n",
    "          bano_excus = as.numeric(bano_excus),\n",
    "          bano_regad = as.numeric(bano_regad),\n",
    "          combustible = as.numeric(combustible)\n",
    "        )\n",
    "      } else if (year >= 2024) {\n",
    "        mutate(.,\n",
    "          disp_elect = as.numeric(disp_elect),\n",
    "          focos      = as.numeric(focos),\n",
    "          focos_ahor = as.numeric(focos_ahor),\n",
    "          num_cuarto = as.numeric(num_cuarto),\n",
    "          bano_comp  = as.numeric(bano_comp),\n",
    "          bano_excus = as.numeric(bano_excus),\n",
    "          bano_regad = as.numeric(bano_regad),\n",
    "          combus     = as.numeric(combus)\n",
    "        )\n",
    "      }\n",
    "    } %>%\n",
    "    mutate(\n",
    "      AElj = case_when(\n",
    "        disp_elect == 5 ~ 0,              # no tiene luz eléctrica\n",
    "        disp_elect %in% c(3, 4) ~ 0.5,    # panel solar u otra fuente\n",
    "        disp_elect %in% c(1, 2) ~ 1,      # servicio público / planta particular\n",
    "        TRUE ~ NA_real_\n",
    "      )\n",
    "    ) %>%\n",
    "\n",
    "    # --- Logro de focos ---\n",
    "    mutate(\n",
    "      CTj = num_cuarto,\n",
    "\n",
    "      Focos = if (year <= 2022) {\n",
    "        replace_na(focos_inca, 0) + replace_na(focos_ahor, 0)\n",
    "      } else if (year >= 2024) {\n",
    "        replace_na(focos, 0) + replace_na(focos_ahor, 0)\n",
    "      },\n",
    "\n",
    "      # baños: (.=0) y conteo\n",
    "      bano_comp  = replace_na(bano_comp,  0),\n",
    "      bano_excus = replace_na(bano_excus, 0),\n",
    "      bano_regad = replace_na(bano_regad, 0),\n",
    "      num_bano   = bano_comp + bano_excus + bano_regad,\n",
    "\n",
    "      # cuartos totales incluyendo baños\n",
    "      CTBj = CTj + num_bano,\n",
    "\n",
    "      # norma (focos por cuarto incluyendo baños)\n",
    "      Fj_N = 1.25,\n",
    "\n",
    "      # indicador logro de focos\n",
    "      LFj  = if_else(CTBj > 0, (Focos / CTBj) / Fj_N, NA_real_),\n",
    "\n",
    "      # reescalado: máximo 2\n",
    "      LFj_P = if_else(LFj > 1, pmin(1 + (LFj - 1) / 3, 2), LFj),\n",
    "\n",
    "      # indicador integral de logro de electricidad y su privación\n",
    "      LIEI = AElj * LFj_P,\n",
    "      PIEI = 1 - LIEI\n",
    "    ) %>%\n",
    "\n",
    "    # --- Fuente de energía para cocinar (2024+: 'combus' con 7 = No cocinan) ---\n",
    "    mutate(\n",
    "      comb_num = if (year >= 2024) combus else combustible,\n",
    "      CK = case_when(\n",
    "        comb_num %in% c(3, 4, 5) ~ 3,        # gas tanque / natural / electricidad (norma)\n",
    "        comb_num %in% c(1, 2, 6,7) ~ 1,     # leña, carbón, otro, NO cocinan (7)\n",
    "        TRUE ~ NA_real_\n",
    "      ),\n",
    "      ACK = CK / 3,\n",
    "      PCK = 1 - ACK,\n",
    "\n",
    "      # adecuación energética y carencia\n",
    "      AENj = ACK * 0.30 + LIEI * 0.70,\n",
    "      CENj = 1 - AENj,\n",
    "      year = year\n",
    "    ) %>%\n",
    "\n",
    "    # Selección de variables (igual que tenías)\n",
    "    {\n",
    "      if (year < 2022) select(., folioviv, AElj, LFj_P, LIEI, PIEI, ACK, PCK, AENj,CTBj ,CENj,Focos,comb_num, factor, upm, est_dis) else\n",
    "        select(., folioviv, AElj, LFj_P, LIEI, PIEI, ACK, PCK, AENj, CENj,Focos,comb_num,CTBj)\n",
    "    }\n",
    "\n",
    "  # Población\n",
    "  pob <- read_csv(paste0(\"data/ns_poblacion_\", year, \".csv\"), show_col_types = FALSE) %>%\n",
    "    janitor::clean_names() %>%\n",
    "    # Filtrar parentescos que no pertenecen al núcleo familiar\n",
    "    filter(!(parentesco >= 400 & parentesco < 500) & !(parentesco >= 700 & parentesco < 800)) %>%\n",
    "    # Crear clave de entidad\n",
    "    mutate(\n",
    "      cve_ent = case_when(\n",
    "        nchar(folioviv) == 9 ~ paste0(\"0\", substr(folioviv, 1, 1)),\n",
    "        nchar(folioviv) == 10 ~ substr(folioviv, 1, 2)\n",
    "      )\n",
    "    ) %>%\n",
    "    # Pegar vivienda\n",
    "    left_join(vivienda, by = \"folioviv\") %>%\n",
    "    mutate(\n",
    "      # Estratos de carencia energética (tu lógica original)\n",
    "      E_CENJ = case_when(\n",
    "        CENj <= -0.5 ~ 6,\n",
    "        CENj > -0.5 & CENj <= -0.1 ~ 5,\n",
    "        CENj > -0.1 & CENj <= 0 ~ 4,\n",
    "        CENj > 0 & CENj <= (1/3) ~ 3,\n",
    "        CENj > (1/3) & CENj <= 0.5 ~ 2,\n",
    "        CENj > 0.5 & CENj <= 1 ~ 1,\n",
    "        TRUE ~ NA_real_\n",
    "      ),\n",
    "      # Pobreza energética\n",
    "      pobreza_cenj = case_when(\n",
    "        E_CENJ >= 4 ~ 0,\n",
    "        E_CENJ <= 3 ~ 1,\n",
    "        TRUE ~ NA_real_\n",
    "      )\n",
    "    )\n",
    "\n",
    "  # Diseño muestral\n",
    "  diseno <- pob %>%\n",
    "    as_survey_design(\n",
    "      ids = upm,\n",
    "      strata = est_dis,\n",
    "      weights = factor,\n",
    "      nest = TRUE\n",
    "    )\n",
    "\n",
    "  # Estimaciones\n",
    "  resultado <- if (variable == \"pobreza_energetica\") {\n",
    "    # diseno%>%\n",
    "    # filter(cve_ent == \"09\") %>%\n",
    "    # group_by(CTBj) %>%\n",
    "    # summarise(\n",
    "    #   pob = survey_total(vartype = \"cv\"),\n",
    "    #   porcentaje = survey_prop(vartype = \"cv\")\n",
    "    # )%>%\n",
    "    # mutate(porcentaje = porcentaje * 100, year = year) \n",
    "    diseno %>%\n",
    "      filter(cve_ent == \"09\") %>%\n",
    "      group_by(pobreza_cenj) %>%\n",
    "      summarise(\n",
    "        pob = survey_total(vartype = \"cv\"),\n",
    "        porcentaje = survey_prop(vartype = \"cv\")\n",
    "      ) %>%\n",
    "      mutate(porcentaje = porcentaje * 100, year = year) %>%\n",
    "      filter(pobreza_cenj == 1)\n",
    "  \n",
    "  } else {\n",
    "    stop(\"Variable no reconocida\")\n",
    "  }\n",
    "\n",
    "  return(resultado)\n",
    "}"
   ]
  },
  {
   "cell_type": "code",
   "execution_count": 102,
   "id": "fc7f787d",
   "metadata": {
    "vscode": {
     "languageId": "r"
    }
   },
   "outputs": [
    {
     "name": "stderr",
     "output_type": "stream",
     "text": [
      "Warning message:\n",
      "\"\u001b[1m\u001b[22mOne or more parsing issues, call `problems()` on your data frame for details,\n",
      "e.g.:\n",
      "  dat <- vroom(...)\n",
      "  problems(dat)\"\n",
      "Warning message:\n",
      "\"\u001b[1m\u001b[22mOne or more parsing issues, call `problems()` on your data frame for details,\n",
      "e.g.:\n",
      "  dat <- vroom(...)\n",
      "  problems(dat)\"\n",
      "Warning message:\n",
      "\"\u001b[1m\u001b[22mOne or more parsing issues, call `problems()` on your data frame for details,\n",
      "e.g.:\n",
      "  dat <- vroom(...)\n",
      "  problems(dat)\"\n",
      "Warning message:\n",
      "\"\u001b[1m\u001b[22mOne or more parsing issues, call `problems()` on your data frame for details,\n",
      "e.g.:\n",
      "  dat <- vroom(...)\n",
      "  problems(dat)\"\n",
      "Warning message:\n",
      "\"\u001b[1m\u001b[22mOne or more parsing issues, call `problems()` on your data frame for details,\n",
      "e.g.:\n",
      "  dat <- vroom(...)\n",
      "  problems(dat)\"\n",
      "Warning message:\n",
      "\"\u001b[1m\u001b[22mOne or more parsing issues, call `problems()` on your data frame for details,\n",
      "e.g.:\n",
      "  dat <- vroom(...)\n",
      "  problems(dat)\"\n",
      "Warning message:\n",
      "\"\u001b[1m\u001b[22mOne or more parsing issues, call `problems()` on your data frame for details,\n",
      "e.g.:\n",
      "  dat <- vroom(...)\n",
      "  problems(dat)\"\n",
      "Warning message:\n",
      "\"\u001b[1m\u001b[22mOne or more parsing issues, call `problems()` on your data frame for details,\n",
      "e.g.:\n",
      "  dat <- vroom(...)\n",
      "  problems(dat)\"\n"
     ]
    },
    {
     "data": {
      "text/html": [
       "<table class=\"dataframe\">\n",
       "<caption>A tibble: 4 × 6</caption>\n",
       "<thead>\n",
       "\t<tr><th scope=col>pobreza_cenj</th><th scope=col>pob</th><th scope=col>pob_cv</th><th scope=col>porcentaje</th><th scope=col>porcentaje_cv</th><th scope=col>year</th></tr>\n",
       "\t<tr><th scope=col>&lt;dbl&gt;</th><th scope=col>&lt;dbl&gt;</th><th scope=col>&lt;dbl&gt;</th><th scope=col>&lt;dbl&gt;</th><th scope=col>&lt;dbl&gt;</th><th scope=col>&lt;chr&gt;</th></tr>\n",
       "</thead>\n",
       "<tbody>\n",
       "\t<tr><td>1</td><td>4412792</td><td>0.03827475</td><td>47.984627</td><td>0.03202021</td><td>2018</td></tr>\n",
       "\t<tr><td>1</td><td>4576102</td><td>0.03400964</td><td>49.521462</td><td>0.02907445</td><td>2020</td></tr>\n",
       "\t<tr><td>1</td><td>4335357</td><td>0.03611505</td><td>46.594151</td><td>0.03099795</td><td>2022</td></tr>\n",
       "\t<tr><td>1</td><td> 276330</td><td>0.15341178</td><td> 2.956804</td><td>0.15097855</td><td>2024</td></tr>\n",
       "</tbody>\n",
       "</table>\n"
      ],
      "text/latex": [
       "A tibble: 4 × 6\n",
       "\\begin{tabular}{llllll}\n",
       " pobreza\\_cenj & pob & pob\\_cv & porcentaje & porcentaje\\_cv & year\\\\\n",
       " <dbl> & <dbl> & <dbl> & <dbl> & <dbl> & <chr>\\\\\n",
       "\\hline\n",
       "\t 1 & 4412792 & 0.03827475 & 47.984627 & 0.03202021 & 2018\\\\\n",
       "\t 1 & 4576102 & 0.03400964 & 49.521462 & 0.02907445 & 2020\\\\\n",
       "\t 1 & 4335357 & 0.03611505 & 46.594151 & 0.03099795 & 2022\\\\\n",
       "\t 1 &  276330 & 0.15341178 &  2.956804 & 0.15097855 & 2024\\\\\n",
       "\\end{tabular}\n"
      ],
      "text/markdown": [
       "\n",
       "A tibble: 4 × 6\n",
       "\n",
       "| pobreza_cenj &lt;dbl&gt; | pob &lt;dbl&gt; | pob_cv &lt;dbl&gt; | porcentaje &lt;dbl&gt; | porcentaje_cv &lt;dbl&gt; | year &lt;chr&gt; |\n",
       "|---|---|---|---|---|---|\n",
       "| 1 | 4412792 | 0.03827475 | 47.984627 | 0.03202021 | 2018 |\n",
       "| 1 | 4576102 | 0.03400964 | 49.521462 | 0.02907445 | 2020 |\n",
       "| 1 | 4335357 | 0.03611505 | 46.594151 | 0.03099795 | 2022 |\n",
       "| 1 |  276330 | 0.15341178 |  2.956804 | 0.15097855 | 2024 |\n",
       "\n"
      ],
      "text/plain": [
       "  pobreza_cenj pob     pob_cv     porcentaje porcentaje_cv year\n",
       "1 1            4412792 0.03827475 47.984627  0.03202021    2018\n",
       "2 1            4576102 0.03400964 49.521462  0.02907445    2020\n",
       "3 1            4335357 0.03611505 46.594151  0.03099795    2022\n",
       "4 1             276330 0.15341178  2.956804  0.15097855    2024"
      ]
     },
     "metadata": {},
     "output_type": "display_data"
    }
   ],
   "source": [
    "tabla_pobreza <- map_dfr(years, estima_pobreza_energetica, variable = \"pobreza_energetica\")\n",
    "tabla_pobreza"
   ]
  },
  {
   "cell_type": "code",
   "execution_count": 100,
   "id": "9b3b264f",
   "metadata": {
    "vscode": {
     "languageId": "r"
    }
   },
   "outputs": [
    {
     "data": {
      "image/png": "[encoded data removed]",
      "text/plain": [
       "plot without title"
      ]
     },
     "metadata": {
      "image/png": {
       "height": 420,
       "width": 420
      }
     },
     "output_type": "display_data"
    }
   ],
   "source": [
    "#Histograma de la tabla_pobreza por año\n",
    "\n",
    "tabla_pobreza%>%\n",
    "  ggplot(aes(x = CTBj, y = porcentaje)) +\n",
    "  geom_bar(stat = \"identity\") +\n",
    "  labs(title = \"Histograma de la pobreza energética por año\",\n",
    "       x = \"Año\",\n",
    "       y = \"Porcentaje\",\n",
    "       fill = \"Estrato de carencia energética\") +\n",
    "  theme_minimal()+\n",
    "  facet_wrap(~ year)"
   ]
  },
  {
   "cell_type": "code",
   "execution_count": 88,
   "id": "b69ba4b3",
   "metadata": {
    "vscode": {
     "languageId": "r"
    }
   },
   "outputs": [
    {
     "name": "stderr",
     "output_type": "stream",
     "text": [
      "Warning message:\n",
      "\"\u001b[1m\u001b[22mOne or more parsing issues, call `problems()` on your data frame for details,\n",
      "e.g.:\n",
      "  dat <- vroom(...)\n",
      "  problems(dat)\"\n",
      "Warning message:\n",
      "\"\u001b[1m\u001b[22mOne or more parsing issues, call `problems()` on your data frame for details,\n",
      "e.g.:\n",
      "  dat <- vroom(...)\n",
      "  problems(dat)\"\n"
     ]
    }
   ],
   "source": [
    "vivienda2024<-read_csv(file = \"data/ns_viviendas_2024.csv\", show_col_types = FALSE)\n",
    "vivienda2022<-read_csv(file = \"data/ns_viviendas_2022.csv\", show_col_types = FALSE)"
   ]
  },
  {
   "cell_type": "code",
   "execution_count": 89,
   "id": "6dfc73b3",
   "metadata": {
    "vscode": {
     "languageId": "r"
    }
   },
   "outputs": [],
   "source": [
    "dm24<-vivienda2024%>%\n",
    "as_survey_design(\n",
    "    ids = upm,\n",
    "    strata = est_dis,\n",
    "    weights = factor,\n",
    "    nest = TRUE\n",
    ")"
   ]
  },
  {
   "cell_type": "code",
   "execution_count": 90,
   "id": "defa810f",
   "metadata": {
    "vscode": {
     "languageId": "r"
    }
   },
   "outputs": [],
   "source": [
    "dm22<-vivienda2022%>%\n",
    "  as_survey_design(\n",
    "    ids = upm,\n",
    "    strata = est_dis,\n",
    "    weights = factor,\n",
    "    nest = TRUE\n",
    "  )"
   ]
  },
  {
   "cell_type": "code",
   "execution_count": 91,
   "id": "66d56332",
   "metadata": {
    "vscode": {
     "languageId": "r"
    }
   },
   "outputs": [
    {
     "data": {
      "text/html": [
       "<table class=\"dataframe\">\n",
       "<caption>A tabyl: 38 × 3</caption>\n",
       "<thead>\n",
       "\t<tr><th scope=col>focos_inca</th><th scope=col>focos</th><th scope=col>focos_se</th></tr>\n",
       "\t<tr><th scope=col>&lt;chr&gt;</th><th scope=col>&lt;dbl&gt;</th><th scope=col>&lt;dbl&gt;</th></tr>\n",
       "</thead>\n",
       "<tbody>\n",
       "\t<tr><td>0    </td><td>29380667</td><td>126733.4483</td></tr>\n",
       "\t<tr><td>1    </td><td> 1664383</td><td> 37215.5987</td></tr>\n",
       "\t<tr><td>2    </td><td> 1723283</td><td> 38766.5830</td></tr>\n",
       "\t<tr><td>3    </td><td> 1324629</td><td> 33847.1283</td></tr>\n",
       "\t<tr><td>4    </td><td>  942661</td><td> 27510.0456</td></tr>\n",
       "\t<tr><td>5    </td><td>  676542</td><td> 22573.3442</td></tr>\n",
       "\t<tr><td>6    </td><td>  436081</td><td> 17159.8359</td></tr>\n",
       "\t<tr><td>7    </td><td>  212831</td><td> 11995.5492</td></tr>\n",
       "\t<tr><td>8    </td><td>  178831</td><td> 11499.9364</td></tr>\n",
       "\t<tr><td>9    </td><td>   74843</td><td>  7474.1239</td></tr>\n",
       "\t<tr><td>10   </td><td>   91516</td><td>  8111.9696</td></tr>\n",
       "\t<tr><td>11   </td><td>   21735</td><td>  3281.7168</td></tr>\n",
       "\t<tr><td>12   </td><td>   29638</td><td>  4514.6128</td></tr>\n",
       "\t<tr><td>13   </td><td>   13903</td><td>  3481.0391</td></tr>\n",
       "\t<tr><td>14   </td><td>    6352</td><td>  1799.1183</td></tr>\n",
       "\t<tr><td>15   </td><td>   15545</td><td>  4217.0289</td></tr>\n",
       "\t<tr><td>16   </td><td>    4375</td><td>  1618.1536</td></tr>\n",
       "\t<tr><td>17   </td><td>    3590</td><td>  1828.5158</td></tr>\n",
       "\t<tr><td>18   </td><td>    3190</td><td>  1050.6322</td></tr>\n",
       "\t<tr><td>19   </td><td>     635</td><td>   465.0086</td></tr>\n",
       "\t<tr><td>20   </td><td>   14024</td><td>  3710.2259</td></tr>\n",
       "\t<tr><td>21   </td><td>      73</td><td>    73.0000</td></tr>\n",
       "\t<tr><td>22   </td><td>    1453</td><td>  1018.1950</td></tr>\n",
       "\t<tr><td>23   </td><td>    1093</td><td>   654.5388</td></tr>\n",
       "\t<tr><td>24   </td><td>     591</td><td>   438.3207</td></tr>\n",
       "\t<tr><td>25   </td><td>    4163</td><td>  1925.7209</td></tr>\n",
       "\t<tr><td>27   </td><td>     783</td><td>   593.1652</td></tr>\n",
       "\t<tr><td>30   </td><td>    1644</td><td>  1444.4646</td></tr>\n",
       "\t<tr><td>35   </td><td>     710</td><td>   510.9090</td></tr>\n",
       "\t<tr><td>37   </td><td>     144</td><td>   144.0000</td></tr>\n",
       "\t<tr><td>38   </td><td>     180</td><td>   180.0000</td></tr>\n",
       "\t<tr><td>40   </td><td>     264</td><td>   186.6762</td></tr>\n",
       "\t<tr><td>44   </td><td>    1603</td><td>  1603.0000</td></tr>\n",
       "\t<tr><td>60   </td><td>     651</td><td>   512.6217</td></tr>\n",
       "\t<tr><td>70   </td><td>     186</td><td>   186.0000</td></tr>\n",
       "\t<tr><td>98   </td><td>     466</td><td>   336.5204</td></tr>\n",
       "\t<tr><td>NA   </td><td>  135613</td><td> 11821.3691</td></tr>\n",
       "\t<tr><td>Total</td><td>36968871</td><td>390482.1166</td></tr>\n",
       "</tbody>\n",
       "</table>\n"
      ],
      "text/latex": [
       "A tabyl: 38 × 3\n",
       "\\begin{tabular}{lll}\n",
       " focos\\_inca & focos & focos\\_se\\\\\n",
       " <chr> & <dbl> & <dbl>\\\\\n",
       "\\hline\n",
       "\t 0     & 29380667 & 126733.4483\\\\\n",
       "\t 1     &  1664383 &  37215.5987\\\\\n",
       "\t 2     &  1723283 &  38766.5830\\\\\n",
       "\t 3     &  1324629 &  33847.1283\\\\\n",
       "\t 4     &   942661 &  27510.0456\\\\\n",
       "\t 5     &   676542 &  22573.3442\\\\\n",
       "\t 6     &   436081 &  17159.8359\\\\\n",
       "\t 7     &   212831 &  11995.5492\\\\\n",
       "\t 8     &   178831 &  11499.9364\\\\\n",
       "\t 9     &    74843 &   7474.1239\\\\\n",
       "\t 10    &    91516 &   8111.9696\\\\\n",
       "\t 11    &    21735 &   3281.7168\\\\\n",
       "\t 12    &    29638 &   4514.6128\\\\\n",
       "\t 13    &    13903 &   3481.0391\\\\\n",
       "\t 14    &     6352 &   1799.1183\\\\\n",
       "\t 15    &    15545 &   4217.0289\\\\\n",
       "\t 16    &     4375 &   1618.1536\\\\\n",
       "\t 17    &     3590 &   1828.5158\\\\\n",
       "\t 18    &     3190 &   1050.6322\\\\\n",
       "\t 19    &      635 &    465.0086\\\\\n",
       "\t 20    &    14024 &   3710.2259\\\\\n",
       "\t 21    &       73 &     73.0000\\\\\n",
       "\t 22    &     1453 &   1018.1950\\\\\n",
       "\t 23    &     1093 &    654.5388\\\\\n",
       "\t 24    &      591 &    438.3207\\\\\n",
       "\t 25    &     4163 &   1925.7209\\\\\n",
       "\t 27    &      783 &    593.1652\\\\\n",
       "\t 30    &     1644 &   1444.4646\\\\\n",
       "\t 35    &      710 &    510.9090\\\\\n",
       "\t 37    &      144 &    144.0000\\\\\n",
       "\t 38    &      180 &    180.0000\\\\\n",
       "\t 40    &      264 &    186.6762\\\\\n",
       "\t 44    &     1603 &   1603.0000\\\\\n",
       "\t 60    &      651 &    512.6217\\\\\n",
       "\t 70    &      186 &    186.0000\\\\\n",
       "\t 98    &      466 &    336.5204\\\\\n",
       "\t NA    &   135613 &  11821.3691\\\\\n",
       "\t Total & 36968871 & 390482.1166\\\\\n",
       "\\end{tabular}\n"
      ],
      "text/markdown": [
       "\n",
       "A tabyl: 38 × 3\n",
       "\n",
       "| focos_inca &lt;chr&gt; | focos &lt;dbl&gt; | focos_se &lt;dbl&gt; |\n",
       "|---|---|---|\n",
       "| 0     | 29380667 | 126733.4483 |\n",
       "| 1     |  1664383 |  37215.5987 |\n",
       "| 2     |  1723283 |  38766.5830 |\n",
       "| 3     |  1324629 |  33847.1283 |\n",
       "| 4     |   942661 |  27510.0456 |\n",
       "| 5     |   676542 |  22573.3442 |\n",
       "| 6     |   436081 |  17159.8359 |\n",
       "| 7     |   212831 |  11995.5492 |\n",
       "| 8     |   178831 |  11499.9364 |\n",
       "| 9     |    74843 |   7474.1239 |\n",
       "| 10    |    91516 |   8111.9696 |\n",
       "| 11    |    21735 |   3281.7168 |\n",
       "| 12    |    29638 |   4514.6128 |\n",
       "| 13    |    13903 |   3481.0391 |\n",
       "| 14    |     6352 |   1799.1183 |\n",
       "| 15    |    15545 |   4217.0289 |\n",
       "| 16    |     4375 |   1618.1536 |\n",
       "| 17    |     3590 |   1828.5158 |\n",
       "| 18    |     3190 |   1050.6322 |\n",
       "| 19    |      635 |    465.0086 |\n",
       "| 20    |    14024 |   3710.2259 |\n",
       "| 21    |       73 |     73.0000 |\n",
       "| 22    |     1453 |   1018.1950 |\n",
       "| 23    |     1093 |    654.5388 |\n",
       "| 24    |      591 |    438.3207 |\n",
       "| 25    |     4163 |   1925.7209 |\n",
       "| 27    |      783 |    593.1652 |\n",
       "| 30    |     1644 |   1444.4646 |\n",
       "| 35    |      710 |    510.9090 |\n",
       "| 37    |      144 |    144.0000 |\n",
       "| 38    |      180 |    180.0000 |\n",
       "| 40    |      264 |    186.6762 |\n",
       "| 44    |     1603 |   1603.0000 |\n",
       "| 60    |      651 |    512.6217 |\n",
       "| 70    |      186 |    186.0000 |\n",
       "| 98    |      466 |    336.5204 |\n",
       "| NA    |   135613 |  11821.3691 |\n",
       "| Total | 36968871 | 390482.1166 |\n",
       "\n"
      ],
      "text/plain": [
       "   focos_inca focos    focos_se   \n",
       "1  0          29380667 126733.4483\n",
       "2  1           1664383  37215.5987\n",
       "3  2           1723283  38766.5830\n",
       "4  3           1324629  33847.1283\n",
       "5  4            942661  27510.0456\n",
       "6  5            676542  22573.3442\n",
       "7  6            436081  17159.8359\n",
       "8  7            212831  11995.5492\n",
       "9  8            178831  11499.9364\n",
       "10 9             74843   7474.1239\n",
       "11 10            91516   8111.9696\n",
       "12 11            21735   3281.7168\n",
       "13 12            29638   4514.6128\n",
       "14 13            13903   3481.0391\n",
       "15 14             6352   1799.1183\n",
       "16 15            15545   4217.0289\n",
       "17 16             4375   1618.1536\n",
       "18 17             3590   1828.5158\n",
       "19 18             3190   1050.6322\n",
       "20 19              635    465.0086\n",
       "21 20            14024   3710.2259\n",
       "22 21               73     73.0000\n",
       "23 22             1453   1018.1950\n",
       "24 23             1093    654.5388\n",
       "25 24              591    438.3207\n",
       "26 25             4163   1925.7209\n",
       "27 27              783    593.1652\n",
       "28 30             1644   1444.4646\n",
       "29 35              710    510.9090\n",
       "30 37              144    144.0000\n",
       "31 38              180    180.0000\n",
       "32 40              264    186.6762\n",
       "33 44             1603   1603.0000\n",
       "34 60              651    512.6217\n",
       "35 70              186    186.0000\n",
       "36 98              466    336.5204\n",
       "37 NA           135613  11821.3691\n",
       "38 Total      36968871 390482.1166"
      ]
     },
     "metadata": {},
     "output_type": "display_data"
    }
   ],
   "source": [
    "dm22%>%\n",
    "group_by(focos_inca)%>%\n",
    "  summarise(focos=survey_total())%>%\n",
    "  ungroup()%>%\n",
    "  janitor::adorn_totals()"
   ]
  },
  {
   "cell_type": "code",
   "execution_count": 92,
   "id": "97d3b657",
   "metadata": {
    "vscode": {
     "languageId": "r"
    }
   },
   "outputs": [
    {
     "data": {
      "text/html": [
       "<table class=\"dataframe\">\n",
       "<caption>A tabyl: 67 × 3</caption>\n",
       "<thead>\n",
       "\t<tr><th scope=col>focos</th><th scope=col>viviendas</th><th scope=col>viviendas_se</th></tr>\n",
       "\t<tr><th scope=col>&lt;chr&gt;</th><th scope=col>&lt;dbl&gt;</th><th scope=col>&lt;dbl&gt;</th></tr>\n",
       "</thead>\n",
       "<tbody>\n",
       "\t<tr><td>0 </td><td>   1711</td><td>  689.4324</td></tr>\n",
       "\t<tr><td>1 </td><td> 311599</td><td>15625.9458</td></tr>\n",
       "\t<tr><td>2 </td><td>1327654</td><td>37453.7199</td></tr>\n",
       "\t<tr><td>3 </td><td>2614970</td><td>49889.5818</td></tr>\n",
       "\t<tr><td>4 </td><td>4272583</td><td>64667.1645</td></tr>\n",
       "\t<tr><td>5 </td><td>4800352</td><td>66122.7594</td></tr>\n",
       "\t<tr><td>6 </td><td>5427772</td><td>73035.1177</td></tr>\n",
       "\t<tr><td>7 </td><td>4097148</td><td>66984.9123</td></tr>\n",
       "\t<tr><td>8 </td><td>4119610</td><td>68616.7758</td></tr>\n",
       "\t<tr><td>9 </td><td>2022193</td><td>48989.6731</td></tr>\n",
       "\t<tr><td>10</td><td>3263372</td><td>61039.7306</td></tr>\n",
       "\t<tr><td>11</td><td> 745700</td><td>26172.2722</td></tr>\n",
       "\t<tr><td>12</td><td>1413415</td><td>38692.7786</td></tr>\n",
       "\t<tr><td>13</td><td> 454157</td><td>20336.3386</td></tr>\n",
       "\t<tr><td>14</td><td> 440062</td><td>21834.1413</td></tr>\n",
       "\t<tr><td>15</td><td> 888271</td><td>29675.4696</td></tr>\n",
       "\t<tr><td>16</td><td> 283695</td><td>16206.9017</td></tr>\n",
       "\t<tr><td>17</td><td> 124582</td><td> 9594.1442</td></tr>\n",
       "\t<tr><td>18</td><td> 169797</td><td>11948.8488</td></tr>\n",
       "\t<tr><td>19</td><td>  58175</td><td> 7469.8303</td></tr>\n",
       "\t<tr><td>20</td><td> 620832</td><td>26584.1301</td></tr>\n",
       "\t<tr><td>21</td><td>  41905</td><td> 5847.7108</td></tr>\n",
       "\t<tr><td>22</td><td>  62076</td><td> 6654.4351</td></tr>\n",
       "\t<tr><td>23</td><td>  33914</td><td> 5629.1645</td></tr>\n",
       "\t<tr><td>24</td><td>  51862</td><td> 7037.9387</td></tr>\n",
       "\t<tr><td>25</td><td> 134026</td><td>11483.9631</td></tr>\n",
       "\t<tr><td>26</td><td>  27090</td><td> 4870.2246</td></tr>\n",
       "\t<tr><td>27</td><td>  26217</td><td> 5316.6802</td></tr>\n",
       "\t<tr><td>28</td><td>  24454</td><td> 4552.9475</td></tr>\n",
       "\t<tr><td>29</td><td>   7514</td><td> 2409.9278</td></tr>\n",
       "\t<tr><td>⋮</td><td>⋮</td><td>⋮</td></tr>\n",
       "\t<tr><td>37   </td><td>    1186</td><td>   575.4271</td></tr>\n",
       "\t<tr><td>38   </td><td>    4433</td><td>  1965.1832</td></tr>\n",
       "\t<tr><td>39   </td><td>     272</td><td>   272.0000</td></tr>\n",
       "\t<tr><td>40   </td><td>   56928</td><td>  7743.7855</td></tr>\n",
       "\t<tr><td>41   </td><td>    3256</td><td>  1615.3270</td></tr>\n",
       "\t<tr><td>42   </td><td>    3049</td><td>  1659.2495</td></tr>\n",
       "\t<tr><td>44   </td><td>     739</td><td>   739.0000</td></tr>\n",
       "\t<tr><td>45   </td><td>    4327</td><td>  2082.2985</td></tr>\n",
       "\t<tr><td>46   </td><td>     380</td><td>   268.7155</td></tr>\n",
       "\t<tr><td>48   </td><td>    1463</td><td>  1221.6648</td></tr>\n",
       "\t<tr><td>49   </td><td>    1197</td><td>  1197.0000</td></tr>\n",
       "\t<tr><td>50   </td><td>   27335</td><td>  4999.9120</td></tr>\n",
       "\t<tr><td>51   </td><td>     129</td><td>   129.0000</td></tr>\n",
       "\t<tr><td>53   </td><td>     964</td><td>   572.2017</td></tr>\n",
       "\t<tr><td>54   </td><td>     418</td><td>   418.0000</td></tr>\n",
       "\t<tr><td>55   </td><td>    1136</td><td>   697.8410</td></tr>\n",
       "\t<tr><td>56   </td><td>    2020</td><td>  1061.9728</td></tr>\n",
       "\t<tr><td>57   </td><td>     204</td><td>   204.0000</td></tr>\n",
       "\t<tr><td>60   </td><td>   14777</td><td>  4069.4814</td></tr>\n",
       "\t<tr><td>61   </td><td>      84</td><td>    84.0000</td></tr>\n",
       "\t<tr><td>64   </td><td>     218</td><td>   218.0000</td></tr>\n",
       "\t<tr><td>65   </td><td>    1601</td><td>  1303.9222</td></tr>\n",
       "\t<tr><td>68   </td><td>     338</td><td>   275.5721</td></tr>\n",
       "\t<tr><td>70   </td><td>    4927</td><td>  2179.2125</td></tr>\n",
       "\t<tr><td>80   </td><td>    2270</td><td>  1398.1781</td></tr>\n",
       "\t<tr><td>90   </td><td>     941</td><td>   668.7698</td></tr>\n",
       "\t<tr><td>91   </td><td>     167</td><td>   167.0000</td></tr>\n",
       "\t<tr><td>99   </td><td>    7545</td><td>  3000.0573</td></tr>\n",
       "\t<tr><td>NA   </td><td>  107007</td><td>  8998.2789</td></tr>\n",
       "\t<tr><td>Total</td><td>38356042</td><td>897997.3356</td></tr>\n",
       "</tbody>\n",
       "</table>\n"
      ],
      "text/latex": [
       "A tabyl: 67 × 3\n",
       "\\begin{tabular}{lll}\n",
       " focos & viviendas & viviendas\\_se\\\\\n",
       " <chr> & <dbl> & <dbl>\\\\\n",
       "\\hline\n",
       "\t 0  &    1711 &   689.4324\\\\\n",
       "\t 1  &  311599 & 15625.9458\\\\\n",
       "\t 2  & 1327654 & 37453.7199\\\\\n",
       "\t 3  & 2614970 & 49889.5818\\\\\n",
       "\t 4  & 4272583 & 64667.1645\\\\\n",
       "\t 5  & 4800352 & 66122.7594\\\\\n",
       "\t 6  & 5427772 & 73035.1177\\\\\n",
       "\t 7  & 4097148 & 66984.9123\\\\\n",
       "\t 8  & 4119610 & 68616.7758\\\\\n",
       "\t 9  & 2022193 & 48989.6731\\\\\n",
       "\t 10 & 3263372 & 61039.7306\\\\\n",
       "\t 11 &  745700 & 26172.2722\\\\\n",
       "\t 12 & 1413415 & 38692.7786\\\\\n",
       "\t 13 &  454157 & 20336.3386\\\\\n",
       "\t 14 &  440062 & 21834.1413\\\\\n",
       "\t 15 &  888271 & 29675.4696\\\\\n",
       "\t 16 &  283695 & 16206.9017\\\\\n",
       "\t 17 &  124582 &  9594.1442\\\\\n",
       "\t 18 &  169797 & 11948.8488\\\\\n",
       "\t 19 &   58175 &  7469.8303\\\\\n",
       "\t 20 &  620832 & 26584.1301\\\\\n",
       "\t 21 &   41905 &  5847.7108\\\\\n",
       "\t 22 &   62076 &  6654.4351\\\\\n",
       "\t 23 &   33914 &  5629.1645\\\\\n",
       "\t 24 &   51862 &  7037.9387\\\\\n",
       "\t 25 &  134026 & 11483.9631\\\\\n",
       "\t 26 &   27090 &  4870.2246\\\\\n",
       "\t 27 &   26217 &  5316.6802\\\\\n",
       "\t 28 &   24454 &  4552.9475\\\\\n",
       "\t 29 &    7514 &  2409.9278\\\\\n",
       "\t ⋮ & ⋮ & ⋮\\\\\n",
       "\t 37    &     1186 &    575.4271\\\\\n",
       "\t 38    &     4433 &   1965.1832\\\\\n",
       "\t 39    &      272 &    272.0000\\\\\n",
       "\t 40    &    56928 &   7743.7855\\\\\n",
       "\t 41    &     3256 &   1615.3270\\\\\n",
       "\t 42    &     3049 &   1659.2495\\\\\n",
       "\t 44    &      739 &    739.0000\\\\\n",
       "\t 45    &     4327 &   2082.2985\\\\\n",
       "\t 46    &      380 &    268.7155\\\\\n",
       "\t 48    &     1463 &   1221.6648\\\\\n",
       "\t 49    &     1197 &   1197.0000\\\\\n",
       "\t 50    &    27335 &   4999.9120\\\\\n",
       "\t 51    &      129 &    129.0000\\\\\n",
       "\t 53    &      964 &    572.2017\\\\\n",
       "\t 54    &      418 &    418.0000\\\\\n",
       "\t 55    &     1136 &    697.8410\\\\\n",
       "\t 56    &     2020 &   1061.9728\\\\\n",
       "\t 57    &      204 &    204.0000\\\\\n",
       "\t 60    &    14777 &   4069.4814\\\\\n",
       "\t 61    &       84 &     84.0000\\\\\n",
       "\t 64    &      218 &    218.0000\\\\\n",
       "\t 65    &     1601 &   1303.9222\\\\\n",
       "\t 68    &      338 &    275.5721\\\\\n",
       "\t 70    &     4927 &   2179.2125\\\\\n",
       "\t 80    &     2270 &   1398.1781\\\\\n",
       "\t 90    &      941 &    668.7698\\\\\n",
       "\t 91    &      167 &    167.0000\\\\\n",
       "\t 99    &     7545 &   3000.0573\\\\\n",
       "\t NA    &   107007 &   8998.2789\\\\\n",
       "\t Total & 38356042 & 897997.3356\\\\\n",
       "\\end{tabular}\n"
      ],
      "text/markdown": [
       "\n",
       "A tabyl: 67 × 3\n",
       "\n",
       "| focos &lt;chr&gt; | viviendas &lt;dbl&gt; | viviendas_se &lt;dbl&gt; |\n",
       "|---|---|---|\n",
       "| 0  |    1711 |   689.4324 |\n",
       "| 1  |  311599 | 15625.9458 |\n",
       "| 2  | 1327654 | 37453.7199 |\n",
       "| 3  | 2614970 | 49889.5818 |\n",
       "| 4  | 4272583 | 64667.1645 |\n",
       "| 5  | 4800352 | 66122.7594 |\n",
       "| 6  | 5427772 | 73035.1177 |\n",
       "| 7  | 4097148 | 66984.9123 |\n",
       "| 8  | 4119610 | 68616.7758 |\n",
       "| 9  | 2022193 | 48989.6731 |\n",
       "| 10 | 3263372 | 61039.7306 |\n",
       "| 11 |  745700 | 26172.2722 |\n",
       "| 12 | 1413415 | 38692.7786 |\n",
       "| 13 |  454157 | 20336.3386 |\n",
       "| 14 |  440062 | 21834.1413 |\n",
       "| 15 |  888271 | 29675.4696 |\n",
       "| 16 |  283695 | 16206.9017 |\n",
       "| 17 |  124582 |  9594.1442 |\n",
       "| 18 |  169797 | 11948.8488 |\n",
       "| 19 |   58175 |  7469.8303 |\n",
       "| 20 |  620832 | 26584.1301 |\n",
       "| 21 |   41905 |  5847.7108 |\n",
       "| 22 |   62076 |  6654.4351 |\n",
       "| 23 |   33914 |  5629.1645 |\n",
       "| 24 |   51862 |  7037.9387 |\n",
       "| 25 |  134026 | 11483.9631 |\n",
       "| 26 |   27090 |  4870.2246 |\n",
       "| 27 |   26217 |  5316.6802 |\n",
       "| 28 |   24454 |  4552.9475 |\n",
       "| 29 |    7514 |  2409.9278 |\n",
       "| ⋮ | ⋮ | ⋮ |\n",
       "| 37    |     1186 |    575.4271 |\n",
       "| 38    |     4433 |   1965.1832 |\n",
       "| 39    |      272 |    272.0000 |\n",
       "| 40    |    56928 |   7743.7855 |\n",
       "| 41    |     3256 |   1615.3270 |\n",
       "| 42    |     3049 |   1659.2495 |\n",
       "| 44    |      739 |    739.0000 |\n",
       "| 45    |     4327 |   2082.2985 |\n",
       "| 46    |      380 |    268.7155 |\n",
       "| 48    |     1463 |   1221.6648 |\n",
       "| 49    |     1197 |   1197.0000 |\n",
       "| 50    |    27335 |   4999.9120 |\n",
       "| 51    |      129 |    129.0000 |\n",
       "| 53    |      964 |    572.2017 |\n",
       "| 54    |      418 |    418.0000 |\n",
       "| 55    |     1136 |    697.8410 |\n",
       "| 56    |     2020 |   1061.9728 |\n",
       "| 57    |      204 |    204.0000 |\n",
       "| 60    |    14777 |   4069.4814 |\n",
       "| 61    |       84 |     84.0000 |\n",
       "| 64    |      218 |    218.0000 |\n",
       "| 65    |     1601 |   1303.9222 |\n",
       "| 68    |      338 |    275.5721 |\n",
       "| 70    |     4927 |   2179.2125 |\n",
       "| 80    |     2270 |   1398.1781 |\n",
       "| 90    |      941 |    668.7698 |\n",
       "| 91    |      167 |    167.0000 |\n",
       "| 99    |     7545 |   3000.0573 |\n",
       "| NA    |   107007 |   8998.2789 |\n",
       "| Total | 38356042 | 897997.3356 |\n",
       "\n"
      ],
      "text/plain": [
       "   focos viviendas viviendas_se\n",
       "1  0        1711     689.4324  \n",
       "2  1      311599   15625.9458  \n",
       "3  2     1327654   37453.7199  \n",
       "4  3     2614970   49889.5818  \n",
       "5  4     4272583   64667.1645  \n",
       "6  5     4800352   66122.7594  \n",
       "7  6     5427772   73035.1177  \n",
       "8  7     4097148   66984.9123  \n",
       "9  8     4119610   68616.7758  \n",
       "10 9     2022193   48989.6731  \n",
       "11 10    3263372   61039.7306  \n",
       "12 11     745700   26172.2722  \n",
       "13 12    1413415   38692.7786  \n",
       "14 13     454157   20336.3386  \n",
       "15 14     440062   21834.1413  \n",
       "16 15     888271   29675.4696  \n",
       "17 16     283695   16206.9017  \n",
       "18 17     124582    9594.1442  \n",
       "19 18     169797   11948.8488  \n",
       "20 19      58175    7469.8303  \n",
       "21 20     620832   26584.1301  \n",
       "22 21      41905    5847.7108  \n",
       "23 22      62076    6654.4351  \n",
       "24 23      33914    5629.1645  \n",
       "25 24      51862    7037.9387  \n",
       "26 25     134026   11483.9631  \n",
       "27 26      27090    4870.2246  \n",
       "28 27      26217    5316.6802  \n",
       "29 28      24454    4552.9475  \n",
       "30 29       7514    2409.9278  \n",
       "⋮  ⋮     ⋮         ⋮           \n",
       "38 37        1186     575.4271 \n",
       "39 38        4433    1965.1832 \n",
       "40 39         272     272.0000 \n",
       "41 40       56928    7743.7855 \n",
       "42 41        3256    1615.3270 \n",
       "43 42        3049    1659.2495 \n",
       "44 44         739     739.0000 \n",
       "45 45        4327    2082.2985 \n",
       "46 46         380     268.7155 \n",
       "47 48        1463    1221.6648 \n",
       "48 49        1197    1197.0000 \n",
       "49 50       27335    4999.9120 \n",
       "50 51         129     129.0000 \n",
       "51 53         964     572.2017 \n",
       "52 54         418     418.0000 \n",
       "53 55        1136     697.8410 \n",
       "54 56        2020    1061.9728 \n",
       "55 57         204     204.0000 \n",
       "56 60       14777    4069.4814 \n",
       "57 61          84      84.0000 \n",
       "58 64         218     218.0000 \n",
       "59 65        1601    1303.9222 \n",
       "60 68         338     275.5721 \n",
       "61 70        4927    2179.2125 \n",
       "62 80        2270    1398.1781 \n",
       "63 90         941     668.7698 \n",
       "64 91         167     167.0000 \n",
       "65 99        7545    3000.0573 \n",
       "66 NA      107007    8998.2789 \n",
       "67 Total 38356042  897997.3356 "
      ]
     },
     "metadata": {},
     "output_type": "display_data"
    }
   ],
   "source": [
    "dm24%>%\n",
    "group_by(focos)%>%\n",
    "  summarise(viviendas=survey_total())%>%\n",
    "  janitor::adorn_totals()"
   ]
  },
  {
   "cell_type": "code",
   "execution_count": 93,
   "id": "5ac91241",
   "metadata": {
    "vscode": {
     "languageId": "r"
    }
   },
   "outputs": [
    {
     "data": {
      "image/png": "[encoded data removed]",
      "text/plain": [
       "Plot with title \"Histogram of as.numeric(vivienda2022$focos_inca)\""
      ]
     },
     "metadata": {
      "image/png": {
       "height": 420,
       "width": 420
      }
     },
     "output_type": "display_data"
    }
   ],
   "source": [
    "#histograma de focos\n",
    "\n",
    "hist(as.numeric(vivienda2022$focos_inca),breaks=50)"
   ]
  },
  {
   "cell_type": "code",
   "execution_count": 94,
   "id": "e8a3e4ad",
   "metadata": {
    "vscode": {
     "languageId": "r"
    }
   },
   "outputs": [
    {
     "data": {
      "image/png": "[encoded data removed]",
      "text/plain": [
       "Plot with title \"Histogram of as.numeric(vivienda2024$focos)\""
      ]
     },
     "metadata": {
      "image/png": {
       "height": 420,
       "width": 420
      }
     },
     "output_type": "display_data"
    }
   ],
   "source": [
    "hist(as.numeric(vivienda2024$focos),breaks=50)"
   ]
  }
 ],
 "metadata": {
  "kernelspec": {
   "display_name": "R",
   "language": "R",
   "name": "ir"
  },
  "language_info": {
   "codemirror_mode": "r",
   "file_extension": ".r",
   "mimetype": "text/x-r-source",
   "name": "R",
   "pygments_lexer": "r",
   "version": "4.4.1"
  }
 },
 "nbformat": 4,
 "nbformat_minor": 5
}
